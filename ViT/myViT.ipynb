{
 "cells": [
  {
   "cell_type": "markdown",
   "id": "47b9c173",
   "metadata": {},
   "source": [
    "사전구성"
   ]
  },
  {
   "cell_type": "code",
   "execution_count": 1,
   "id": "8cf45acd",
   "metadata": {},
   "outputs": [],
   "source": [
    "import torch\n",
    "import torchvision\n",
    "import torchvision.transforms as transforms\n",
    "import torch.nn as nn\n",
    "import torch.nn.functional as F\n",
    "import torch.optim as optim\n",
    "import os"
   ]
  },
  {
   "cell_type": "code",
   "execution_count": 2,
   "id": "c01e713f",
   "metadata": {},
   "outputs": [],
   "source": [
    "transform = transforms.Compose([\n",
    "    transforms.Resize((224, 224)),  #CIFAR 32x32 -> 224x224\n",
    "    transforms.ToTensor(),\n",
    "    transforms.Normalize((0.5071, 0.4865, 0.4409),  # CIFAR-100 평균\n",
    "                         (0.2673, 0.2564, 0.2761))  # CIFAR-100 표준편차\n",
    "])"
   ]
  },
  {
   "cell_type": "code",
   "execution_count": 3,
   "id": "638b72ec",
   "metadata": {},
   "outputs": [
    {
     "name": "stdout",
     "output_type": "stream",
     "text": [
      "클래스 개수: 100\n",
      "예시 클래스: ['apple', 'aquarium_fish', 'baby', 'bear', 'beaver', 'bed', 'bee', 'beetle', 'bicycle', 'bottle']\n",
      "torch.Size([3, 224, 224])\n"
     ]
    }
   ],
   "source": [
    "trainset = torchvision.datasets.CIFAR100(root='./data', train=True, download=True, transform=transform)\n",
    "trainloader = torch.utils.data.DataLoader(trainset, batch_size=128, shuffle=True, num_workers=2)\n",
    "\n",
    "testset = torchvision.datasets.CIFAR100(root='./data', train=False, download=True, transform=transform)\n",
    "testloader = torch.utils.data.DataLoader(testset, batch_size=128, shuffle=False, num_workers=2)\n",
    "\n",
    "print(\"클래스 개수:\", len(trainset.classes))    # 100\n",
    "print(\"예시 클래스:\", trainset.classes[:10])    # 앞 10개 클래스\n",
    "print(trainset[0][0].shape)     #이미지 크기"
   ]
  },
  {
   "cell_type": "markdown",
   "id": "a4849bf6",
   "metadata": {},
   "source": [
    "모듈 구성"
   ]
  },
  {
   "cell_type": "code",
   "execution_count": 4,
   "id": "44f2ea10",
   "metadata": {},
   "outputs": [],
   "source": [
    "class PatchEmbedding(nn.Module):\n",
    "    def __init__(self, image_size=224, patch_size=16, in_channel=3, embedding_dim=768):\n",
    "        super().__init__()\n",
    "\n",
    "        assert image_size % patch_size == 0, \"image size / patch size not dividale\"\n",
    "        self.image_size = image_size\n",
    "        self.patch_size = patch_size\n",
    "        self.grid_size = image_size // patch_size\n",
    "        self.num_patches = self.grid_size * self.grid_size\n",
    "\n",
    "        self.conv_layer = nn.Conv2d(in_channel, embedding_dim, kernel_size=patch_size, stride=patch_size)\n",
    "    \n",
    "    def forward(self, x: torch.Tensor):\n",
    "        x = self.conv_layer(x)\n",
    "        x = x.flatten(2).transpose(1, 2)\n",
    "\n",
    "        return x"
   ]
  },
  {
   "cell_type": "code",
   "execution_count": 5,
   "id": "b6daad2d",
   "metadata": {},
   "outputs": [],
   "source": [
    "class MSA(nn.Module):\n",
    "    def __init__(self, embedding_dim, num_heads, dropout):\n",
    "        super().__init__()\n",
    "        self.num_heads = num_heads\n",
    "        self.head_dim = embedding_dim // num_heads\n",
    "        self.scale = self.head_dim ** -0.5\n",
    "        self.qkv = nn.Linear(embedding_dim, embedding_dim * 3)\n",
    "        self.attn_drop = nn.Dropout(dropout)\n",
    "        self.proj = nn.Linear(embedding_dim, embedding_dim)\n",
    "        self.proj_drop = nn.Dropout(dropout)\n",
    "\n",
    "    def forward(self, x: torch.Tensor) -> torch.Tensor:\n",
    "        B, N, C = x.shape\n",
    "        qkv = self.qkv(x) # (B, N, 3C)\n",
    "        qkv = qkv.reshape(B, N, 3, self.num_heads, self.head_dim).permute(2, 0, 3, 1, 4)\n",
    "        q, k, v = qkv[0], qkv[1], qkv[2] # (B, heads, N, head_dim)\n",
    "        attn = (q @ k.transpose(-2, -1)) * self.scale # (B, heads, N, N)\n",
    "        attn = attn.softmax(dim=-1)\n",
    "        attn = self.attn_drop(attn)\n",
    "        out = attn @ v # (B, heads, N, head_dim)\n",
    "        out = out.transpose(1, 2).reshape(B, N, C)\n",
    "        out = self.proj(out)\n",
    "        out = self.proj_drop(out)\n",
    "\n",
    "        return out"
   ]
  },
  {
   "cell_type": "code",
   "execution_count": 6,
   "id": "31591e17",
   "metadata": {},
   "outputs": [],
   "source": [
    "class EncodingBlock(nn.Module):\n",
    "    def __init__(self, embedding_dim, num_heads, mlp_ratio, dropout):\n",
    "        super().__init__()\n",
    "\n",
    "        self.norm1 = nn.LayerNorm(embedding_dim)\n",
    "        self.attention = MSA(embedding_dim, num_heads, dropout)\n",
    "        self.norm2 = nn.LayerNorm(embedding_dim)\n",
    "        \n",
    "        hidden = embedding_dim * mlp_ratio\n",
    "        self.fc1 = nn.Linear(embedding_dim, hidden)\n",
    "        self.act = nn.GELU()\n",
    "        self.fc2 = nn.Linear(hidden, embedding_dim)\n",
    "        self.drop = nn.Dropout(dropout)\n",
    "    \n",
    "    def forward(self, x: torch.Tensor):\n",
    "        x = self.norm1(x)\n",
    "        x = x + self.attention(x)\n",
    "        x = self.norm2(x)\n",
    "        x = x + self.drop(self.fc2(self.drop(self.act(self.fc1(x)))))\n",
    "\n",
    "        return x\n"
   ]
  },
  {
   "cell_type": "code",
   "execution_count": 7,
   "id": "81a305ad",
   "metadata": {},
   "outputs": [],
   "source": [
    "class myViT(torch.nn.Module):\n",
    "    def __init__(self, image_size=224, patch_size=16, in_channel=3, num_classes=100, embedding_dim=768, depth=12, num_heads=12, mlp_ratio=4, dropout = 0.1):\n",
    "        super().__init__()\n",
    "        \n",
    "        self.patch_embedding = PatchEmbedding(image_size, patch_size, in_channel, embedding_dim)\n",
    "        num_patches = self.patch_embedding.num_patches\n",
    "\n",
    "        self.class_token = nn.Parameter(torch.zeros(1, 1, embedding_dim))\n",
    "        self.position_embedding = nn.Parameter(torch.zeros(1, num_patches + 1, embedding_dim))\n",
    "        self.position_dropout = nn.Dropout(p = dropout)\n",
    "\n",
    "        self.blocks = nn.ModuleList([EncodingBlock(embedding_dim, num_heads, mlp_ratio, dropout) for i in range(depth)])\n",
    "\n",
    "        self.norm = nn.LayerNorm(embedding_dim)\n",
    "        self.head = nn.Linear(embedding_dim, num_classes)\n",
    "\n",
    "    def forward(self, x):\n",
    "        x = self.patch_embedding(x)\n",
    "        class_token = self.class_token.expand(x.size(0), -1, -1)\n",
    "        x = torch.cat((class_token, x), dim=1)\n",
    "        x = x + self.position_embedding\n",
    "        x = self.position_dropout(x)\n",
    "        for block in self.blocks:\n",
    "            x = block(x)\n",
    "        x_cls = x[:, 0, :]\n",
    "        logits = self.norm(x_cls)\n",
    "        logits = self.head(logits)\n",
    "\n",
    "        return logits"
   ]
  },
  {
   "cell_type": "code",
   "execution_count": 8,
   "id": "d9160c19",
   "metadata": {},
   "outputs": [],
   "source": [
    "train_loss_history = []\n",
    "train_acc_history = []\n",
    "val_loss_history = []\n",
    "val_acc_history = []\n",
    "device = torch.device('cuda' if torch.cuda.is_available() else 'cpu')\n",
    "\n",
    "model = myViT(image_size=224, patch_size=32, in_channel=3, num_classes=100, embedding_dim=768, depth=12, num_heads=12, mlp_ratio=4, dropout = 0.1).to(device)\n",
    "criterion = nn.CrossEntropyLoss()\n",
    "optimizer = optim.AdamW(model.parameters(), lr=1e-4, weight_decay=5e-2)\n",
    "scheduler = optim.lr_scheduler.CosineAnnealingLR(optimizer, T_max=50)\n",
    "scaler = torch.amp.GradScaler(device.type)\n",
    "epochs = 20"
   ]
  },
  {
   "cell_type": "markdown",
   "id": "a72e5fc6",
   "metadata": {},
   "source": [
    "학습 및 평가"
   ]
  },
  {
   "cell_type": "code",
   "execution_count": 9,
   "id": "6dfb2a6d",
   "metadata": {},
   "outputs": [
    {
     "data": {
      "application/vnd.jupyter.widget-view+json": {
       "model_id": "fcd3c7de3a294ac7ae964d93dfbae018",
       "version_major": 2,
       "version_minor": 0
      },
      "text/plain": [
       "smoke test:   0%|          | 0/50 [00:00<?, ?it/s]"
      ]
     },
     "metadata": {},
     "output_type": "display_data"
    }
   ],
   "source": [
    "from tqdm.auto import tqdm\n",
    "import time\n",
    "#tqdm 테스트\n",
    "for i in tqdm(range(50), desc=\"smoke test\", dynamic_ncols=True):\n",
    "    time.sleep(0.01)"
   ]
  },
  {
   "cell_type": "code",
   "execution_count": 10,
   "id": "c8751b36",
   "metadata": {},
   "outputs": [
    {
     "data": {
      "application/vnd.jupyter.widget-view+json": {
       "model_id": "fdb169ae71f345fabb2e082df1843670",
       "version_major": 2,
       "version_minor": 0
      },
      "text/plain": [
       "Train 01/20:   0%|          | 0/391 [00:09<?, ?it/s]"
      ]
     },
     "metadata": {},
     "output_type": "display_data"
    },
    {
     "data": {
      "application/vnd.jupyter.widget-view+json": {
       "model_id": "2f59a17bfee540b1b1a73ef1f2bc550f",
       "version_major": 2,
       "version_minor": 0
      },
      "text/plain": [
       "Val:   0%|          | 0/79 [00:07<?, ?it/s]"
      ]
     },
     "metadata": {},
     "output_type": "display_data"
    },
    {
     "name": "stdout",
     "output_type": "stream",
     "text": [
      "[01/20] train_loss=4.0797 train_acc=7.23% | val_loss=3.7784 val_acc=11.26% | lr=0.00010\n"
     ]
    },
    {
     "data": {
      "application/vnd.jupyter.widget-view+json": {
       "model_id": "9e45f32d3d3b4ba5b970b1a50752ad32",
       "version_major": 2,
       "version_minor": 0
      },
      "text/plain": [
       "Train 02/20:   0%|          | 0/391 [00:08<?, ?it/s]"
      ]
     },
     "metadata": {},
     "output_type": "display_data"
    },
    {
     "data": {
      "application/vnd.jupyter.widget-view+json": {
       "model_id": "30f7368c98504bfa99f11a558a00fb72",
       "version_major": 2,
       "version_minor": 0
      },
      "text/plain": [
       "Val:   0%|          | 0/79 [00:08<?, ?it/s]"
      ]
     },
     "metadata": {},
     "output_type": "display_data"
    },
    {
     "name": "stdout",
     "output_type": "stream",
     "text": [
      "[02/20] train_loss=3.6107 train_acc=14.18% | val_loss=3.5539 val_acc=15.68% | lr=0.00010\n"
     ]
    },
    {
     "data": {
      "application/vnd.jupyter.widget-view+json": {
       "model_id": "d17b814eb74c4316b0d274dd17d9db12",
       "version_major": 2,
       "version_minor": 0
      },
      "text/plain": [
       "Train 03/20:   0%|          | 0/391 [00:10<?, ?it/s]"
      ]
     },
     "metadata": {},
     "output_type": "display_data"
    },
    {
     "data": {
      "application/vnd.jupyter.widget-view+json": {
       "model_id": "8e13558c70e6465d942043b54132cf4c",
       "version_major": 2,
       "version_minor": 0
      },
      "text/plain": [
       "Val:   0%|          | 0/79 [00:08<?, ?it/s]"
      ]
     },
     "metadata": {},
     "output_type": "display_data"
    },
    {
     "name": "stdout",
     "output_type": "stream",
     "text": [
      "[03/20] train_loss=3.2722 train_acc=20.12% | val_loss=3.1562 val_acc=23.06% | lr=0.00010\n"
     ]
    },
    {
     "data": {
      "application/vnd.jupyter.widget-view+json": {
       "model_id": "c9be63866a44428dab2357af5f059b53",
       "version_major": 2,
       "version_minor": 0
      },
      "text/plain": [
       "Train 04/20:   0%|          | 0/391 [00:10<?, ?it/s]"
      ]
     },
     "metadata": {},
     "output_type": "display_data"
    },
    {
     "data": {
      "application/vnd.jupyter.widget-view+json": {
       "model_id": "0fae74c428f2465abd8a285d64667caa",
       "version_major": 2,
       "version_minor": 0
      },
      "text/plain": [
       "Val:   0%|          | 0/79 [00:08<?, ?it/s]"
      ]
     },
     "metadata": {},
     "output_type": "display_data"
    },
    {
     "name": "stdout",
     "output_type": "stream",
     "text": [
      "[04/20] train_loss=2.9931 train_acc=25.04% | val_loss=3.0085 val_acc=24.87% | lr=0.00010\n"
     ]
    },
    {
     "data": {
      "application/vnd.jupyter.widget-view+json": {
       "model_id": "8c9bf9b902a64441a001096a8bfdc330",
       "version_major": 2,
       "version_minor": 0
      },
      "text/plain": [
       "Train 05/20:   0%|          | 0/391 [00:10<?, ?it/s]"
      ]
     },
     "metadata": {},
     "output_type": "display_data"
    },
    {
     "data": {
      "application/vnd.jupyter.widget-view+json": {
       "model_id": "e7972b86946241f2adf99d0edeb81509",
       "version_major": 2,
       "version_minor": 0
      },
      "text/plain": [
       "Val:   0%|          | 0/79 [00:08<?, ?it/s]"
      ]
     },
     "metadata": {},
     "output_type": "display_data"
    },
    {
     "name": "stdout",
     "output_type": "stream",
     "text": [
      "[05/20] train_loss=2.7451 train_acc=30.00% | val_loss=2.8134 val_acc=29.60% | lr=0.00010\n"
     ]
    },
    {
     "data": {
      "application/vnd.jupyter.widget-view+json": {
       "model_id": "940a966ad2aa4616b4aaa29af32cd50c",
       "version_major": 2,
       "version_minor": 0
      },
      "text/plain": [
       "Train 06/20:   0%|          | 0/391 [00:10<?, ?it/s]"
      ]
     },
     "metadata": {},
     "output_type": "display_data"
    },
    {
     "data": {
      "application/vnd.jupyter.widget-view+json": {
       "model_id": "a0e03d7134c74187aad91a4e5e443e5e",
       "version_major": 2,
       "version_minor": 0
      },
      "text/plain": [
       "Val:   0%|          | 0/79 [00:08<?, ?it/s]"
      ]
     },
     "metadata": {},
     "output_type": "display_data"
    },
    {
     "name": "stdout",
     "output_type": "stream",
     "text": [
      "[06/20] train_loss=2.5094 train_acc=34.90% | val_loss=2.7539 val_acc=31.37% | lr=0.00010\n"
     ]
    },
    {
     "data": {
      "application/vnd.jupyter.widget-view+json": {
       "model_id": "a7699082f1b346fb8cda28857398d9ba",
       "version_major": 2,
       "version_minor": 0
      },
      "text/plain": [
       "Train 07/20:   0%|          | 0/391 [00:10<?, ?it/s]"
      ]
     },
     "metadata": {},
     "output_type": "display_data"
    },
    {
     "data": {
      "application/vnd.jupyter.widget-view+json": {
       "model_id": "c1fb2b48b6004d9e964bf8d21a8d2c63",
       "version_major": 2,
       "version_minor": 0
      },
      "text/plain": [
       "Val:   0%|          | 0/79 [00:09<?, ?it/s]"
      ]
     },
     "metadata": {},
     "output_type": "display_data"
    },
    {
     "name": "stdout",
     "output_type": "stream",
     "text": [
      "[07/20] train_loss=2.2580 train_acc=40.30% | val_loss=2.7080 val_acc=33.02% | lr=0.00010\n"
     ]
    },
    {
     "data": {
      "application/vnd.jupyter.widget-view+json": {
       "model_id": "2f9155e439014932a8ba8daaa23771e9",
       "version_major": 2,
       "version_minor": 0
      },
      "text/plain": [
       "Train 08/20:   0%|          | 0/391 [00:10<?, ?it/s]"
      ]
     },
     "metadata": {},
     "output_type": "display_data"
    },
    {
     "data": {
      "application/vnd.jupyter.widget-view+json": {
       "model_id": "5f5d42ec360442bf815b69f2b6261d04",
       "version_major": 2,
       "version_minor": 0
      },
      "text/plain": [
       "Val:   0%|          | 0/79 [00:08<?, ?it/s]"
      ]
     },
     "metadata": {},
     "output_type": "display_data"
    },
    {
     "name": "stdout",
     "output_type": "stream",
     "text": [
      "[08/20] train_loss=1.9844 train_acc=46.52% | val_loss=2.6694 val_acc=34.59% | lr=0.00009\n"
     ]
    },
    {
     "data": {
      "application/vnd.jupyter.widget-view+json": {
       "model_id": "e03e36282a9943c68ac927f9d22219b8",
       "version_major": 2,
       "version_minor": 0
      },
      "text/plain": [
       "Train 09/20:   0%|          | 0/391 [00:10<?, ?it/s]"
      ]
     },
     "metadata": {},
     "output_type": "display_data"
    },
    {
     "data": {
      "application/vnd.jupyter.widget-view+json": {
       "model_id": "549da40293f743a3aef1c2c7bf76c9f1",
       "version_major": 2,
       "version_minor": 0
      },
      "text/plain": [
       "Val:   0%|          | 0/79 [00:08<?, ?it/s]"
      ]
     },
     "metadata": {},
     "output_type": "display_data"
    },
    {
     "name": "stdout",
     "output_type": "stream",
     "text": [
      "[09/20] train_loss=1.7019 train_acc=53.03% | val_loss=2.5939 val_acc=36.27% | lr=0.00009\n"
     ]
    },
    {
     "data": {
      "application/vnd.jupyter.widget-view+json": {
       "model_id": "178d1d87cd41465a890eefc5d51e332b",
       "version_major": 2,
       "version_minor": 0
      },
      "text/plain": [
       "Train 10/20:   0%|          | 0/391 [00:10<?, ?it/s]"
      ]
     },
     "metadata": {},
     "output_type": "display_data"
    },
    {
     "data": {
      "application/vnd.jupyter.widget-view+json": {
       "model_id": "3f0fc893a6504e538e2ba4893b443b6a",
       "version_major": 2,
       "version_minor": 0
      },
      "text/plain": [
       "Val:   0%|          | 0/79 [00:09<?, ?it/s]"
      ]
     },
     "metadata": {},
     "output_type": "display_data"
    },
    {
     "name": "stdout",
     "output_type": "stream",
     "text": [
      "[10/20] train_loss=1.3955 train_acc=60.88% | val_loss=2.6861 val_acc=35.75% | lr=0.00009\n"
     ]
    },
    {
     "data": {
      "application/vnd.jupyter.widget-view+json": {
       "model_id": "59388254bbfb41d2bafe635363de8d8f",
       "version_major": 2,
       "version_minor": 0
      },
      "text/plain": [
       "Train 11/20:   0%|          | 0/391 [00:10<?, ?it/s]"
      ]
     },
     "metadata": {},
     "output_type": "display_data"
    },
    {
     "data": {
      "application/vnd.jupyter.widget-view+json": {
       "model_id": "b0aa0246ca414bc9ba1300dd2c62472b",
       "version_major": 2,
       "version_minor": 0
      },
      "text/plain": [
       "Val:   0%|          | 0/79 [00:08<?, ?it/s]"
      ]
     },
     "metadata": {},
     "output_type": "display_data"
    },
    {
     "name": "stdout",
     "output_type": "stream",
     "text": [
      "[11/20] train_loss=1.0918 train_acc=68.78% | val_loss=2.7078 val_acc=36.65% | lr=0.00009\n"
     ]
    },
    {
     "data": {
      "application/vnd.jupyter.widget-view+json": {
       "model_id": "1b3c1bc0944f4379949f0e1a0730ed0f",
       "version_major": 2,
       "version_minor": 0
      },
      "text/plain": [
       "Train 12/20:   0%|          | 0/391 [00:10<?, ?it/s]"
      ]
     },
     "metadata": {},
     "output_type": "display_data"
    },
    {
     "data": {
      "application/vnd.jupyter.widget-view+json": {
       "model_id": "dc6722601a94480ebe7ad6cdc0629726",
       "version_major": 2,
       "version_minor": 0
      },
      "text/plain": [
       "Val:   0%|          | 0/79 [00:08<?, ?it/s]"
      ]
     },
     "metadata": {},
     "output_type": "display_data"
    },
    {
     "name": "stdout",
     "output_type": "stream",
     "text": [
      "[12/20] train_loss=0.7854 train_acc=77.41% | val_loss=2.8294 val_acc=36.70% | lr=0.00009\n"
     ]
    },
    {
     "data": {
      "application/vnd.jupyter.widget-view+json": {
       "model_id": "d56a9cd57352419489e208bfb724900a",
       "version_major": 2,
       "version_minor": 0
      },
      "text/plain": [
       "Train 13/20:   0%|          | 0/391 [00:10<?, ?it/s]"
      ]
     },
     "metadata": {},
     "output_type": "display_data"
    },
    {
     "data": {
      "application/vnd.jupyter.widget-view+json": {
       "model_id": "0ac0597679164d5d9e0c51b39e5af65c",
       "version_major": 2,
       "version_minor": 0
      },
      "text/plain": [
       "Val:   0%|          | 0/79 [00:08<?, ?it/s]"
      ]
     },
     "metadata": {},
     "output_type": "display_data"
    },
    {
     "name": "stdout",
     "output_type": "stream",
     "text": [
      "[13/20] train_loss=0.5337 train_acc=84.74% | val_loss=2.9942 val_acc=37.71% | lr=0.00008\n"
     ]
    },
    {
     "data": {
      "application/vnd.jupyter.widget-view+json": {
       "model_id": "99a22ef4b5ed4b0fb988eacfac212fe0",
       "version_major": 2,
       "version_minor": 0
      },
      "text/plain": [
       "Train 14/20:   0%|          | 0/391 [00:10<?, ?it/s]"
      ]
     },
     "metadata": {},
     "output_type": "display_data"
    },
    {
     "data": {
      "application/vnd.jupyter.widget-view+json": {
       "model_id": "3c1fee12b9214e88b7840c3ba90afd93",
       "version_major": 2,
       "version_minor": 0
      },
      "text/plain": [
       "Val:   0%|          | 0/79 [00:09<?, ?it/s]"
      ]
     },
     "metadata": {},
     "output_type": "display_data"
    },
    {
     "name": "stdout",
     "output_type": "stream",
     "text": [
      "[14/20] train_loss=0.3613 train_acc=89.83% | val_loss=3.1821 val_acc=36.10% | lr=0.00008\n"
     ]
    },
    {
     "data": {
      "application/vnd.jupyter.widget-view+json": {
       "model_id": "4c58121e4eba4b5c8a8cc69048a5a4b9",
       "version_major": 2,
       "version_minor": 0
      },
      "text/plain": [
       "Train 15/20:   0%|          | 0/391 [00:10<?, ?it/s]"
      ]
     },
     "metadata": {},
     "output_type": "display_data"
    },
    {
     "data": {
      "application/vnd.jupyter.widget-view+json": {
       "model_id": "1f2b240ed5274eb7a097d34b09d67cb3",
       "version_major": 2,
       "version_minor": 0
      },
      "text/plain": [
       "Val:   0%|          | 0/79 [00:08<?, ?it/s]"
      ]
     },
     "metadata": {},
     "output_type": "display_data"
    },
    {
     "name": "stdout",
     "output_type": "stream",
     "text": [
      "[15/20] train_loss=0.2633 train_acc=92.52% | val_loss=3.2812 val_acc=37.03% | lr=0.00008\n"
     ]
    },
    {
     "data": {
      "application/vnd.jupyter.widget-view+json": {
       "model_id": "af0794026ab94fecb9d4c37ce483c79e",
       "version_major": 2,
       "version_minor": 0
      },
      "text/plain": [
       "Train 16/20:   0%|          | 0/391 [00:21<?, ?it/s]"
      ]
     },
     "metadata": {},
     "output_type": "display_data"
    },
    {
     "data": {
      "application/vnd.jupyter.widget-view+json": {
       "model_id": "0b8e658f90e742af9783df7786e5950a",
       "version_major": 2,
       "version_minor": 0
      },
      "text/plain": [
       "Val:   0%|          | 0/79 [00:09<?, ?it/s]"
      ]
     },
     "metadata": {},
     "output_type": "display_data"
    },
    {
     "name": "stdout",
     "output_type": "stream",
     "text": [
      "[16/20] train_loss=0.2203 train_acc=93.60% | val_loss=3.4242 val_acc=37.14% | lr=0.00008\n"
     ]
    },
    {
     "data": {
      "application/vnd.jupyter.widget-view+json": {
       "model_id": "a9deee76ef51443ca2e225e12a5dfd2d",
       "version_major": 2,
       "version_minor": 0
      },
      "text/plain": [
       "Train 17/20:   0%|          | 0/391 [00:10<?, ?it/s]"
      ]
     },
     "metadata": {},
     "output_type": "display_data"
    },
    {
     "data": {
      "application/vnd.jupyter.widget-view+json": {
       "model_id": "83fed24aaa9b4a5b9b9e45c38cc42e2a",
       "version_major": 2,
       "version_minor": 0
      },
      "text/plain": [
       "Val:   0%|          | 0/79 [00:08<?, ?it/s]"
      ]
     },
     "metadata": {},
     "output_type": "display_data"
    },
    {
     "name": "stdout",
     "output_type": "stream",
     "text": [
      "[17/20] train_loss=0.1880 train_acc=94.65% | val_loss=3.4421 val_acc=37.44% | lr=0.00007\n"
     ]
    },
    {
     "data": {
      "application/vnd.jupyter.widget-view+json": {
       "model_id": "dd3a5c6d9fea428a95f101c09a1e39d5",
       "version_major": 2,
       "version_minor": 0
      },
      "text/plain": [
       "Train 18/20:   0%|          | 0/391 [00:11<?, ?it/s]"
      ]
     },
     "metadata": {},
     "output_type": "display_data"
    },
    {
     "data": {
      "application/vnd.jupyter.widget-view+json": {
       "model_id": "288acce1b9cc4274a069e3d3563e5402",
       "version_major": 2,
       "version_minor": 0
      },
      "text/plain": [
       "Val:   0%|          | 0/79 [00:09<?, ?it/s]"
      ]
     },
     "metadata": {},
     "output_type": "display_data"
    },
    {
     "name": "stdout",
     "output_type": "stream",
     "text": [
      "[18/20] train_loss=0.1576 train_acc=95.38% | val_loss=3.5200 val_acc=37.33% | lr=0.00007\n"
     ]
    },
    {
     "data": {
      "application/vnd.jupyter.widget-view+json": {
       "model_id": "7fc2e1e878e04522919e4e29b6b3fb8e",
       "version_major": 2,
       "version_minor": 0
      },
      "text/plain": [
       "Train 19/20:   0%|          | 0/391 [00:10<?, ?it/s]"
      ]
     },
     "metadata": {},
     "output_type": "display_data"
    },
    {
     "data": {
      "application/vnd.jupyter.widget-view+json": {
       "model_id": "ee801dbcafda461d934df398f17f2270",
       "version_major": 2,
       "version_minor": 0
      },
      "text/plain": [
       "Val:   0%|          | 0/79 [00:08<?, ?it/s]"
      ]
     },
     "metadata": {},
     "output_type": "display_data"
    },
    {
     "name": "stdout",
     "output_type": "stream",
     "text": [
      "[19/20] train_loss=0.1322 train_acc=96.17% | val_loss=3.6694 val_acc=37.77% | lr=0.00007\n"
     ]
    },
    {
     "data": {
      "application/vnd.jupyter.widget-view+json": {
       "model_id": "e2bc54fd34f848929c80f9a84cfbf0b6",
       "version_major": 2,
       "version_minor": 0
      },
      "text/plain": [
       "Train 20/20:   0%|          | 0/391 [00:10<?, ?it/s]"
      ]
     },
     "metadata": {},
     "output_type": "display_data"
    },
    {
     "data": {
      "application/vnd.jupyter.widget-view+json": {
       "model_id": "bfee63e98aa24c05af0d108dc83f6167",
       "version_major": 2,
       "version_minor": 0
      },
      "text/plain": [
       "Val:   0%|          | 0/79 [00:08<?, ?it/s]"
      ]
     },
     "metadata": {},
     "output_type": "display_data"
    },
    {
     "name": "stdout",
     "output_type": "stream",
     "text": [
      "[20/20] train_loss=0.1182 train_acc=96.55% | val_loss=3.7422 val_acc=36.78% | lr=0.00007\n",
      "Best val_acc: 37.77%\n"
     ]
    }
   ],
   "source": [
    "\n",
    "\n",
    "@torch.no_grad()\n",
    "def evaluate(model, loader, device):\n",
    "    model.eval()\n",
    "    total, correct, loss_sum = 0, 0, 0.0\n",
    "    criterion = nn.CrossEntropyLoss()\n",
    "\n",
    "    # 평가도 진행률 보이게\n",
    "    pbar = tqdm(loader, desc=\"Val\", leave=False)\n",
    "    for x, y in pbar:\n",
    "        x, y = x.to(device, non_blocking=True), y.to(device, non_blocking=True)\n",
    "        logits = model(x)\n",
    "        loss = criterion(logits, y)\n",
    "        pred = logits.argmax(1)\n",
    "        total += y.size(0)\n",
    "        correct += (pred == y).sum().item()\n",
    "        loss_sum += loss.item() * y.size(0)\n",
    "\n",
    "        cur_loss = loss_sum / total\n",
    "        cur_acc  = correct / total * 100\n",
    "        pbar.set_postfix(loss=f\"{cur_loss:.4f}\", acc=f\"{cur_acc:.2f}%\")\n",
    "\n",
    "    return loss_sum / total, correct / total\n",
    "\n",
    "# ============================================================\n",
    "# 학습 루프 (진행률/ETA/속도/메모리 사용량 표시)\n",
    "# ============================================================\n",
    "\n",
    "best_acc = 0.0\n",
    "os.makedirs('checkpoints', exist_ok=True)\n",
    "\n",
    "for epoch in range(1, epochs+1):\n",
    "    model.train()\n",
    "    total, correct, run_loss = 0, 0, 0.0\n",
    "\n",
    "    start = time.time()\n",
    "    # tqdm 진행바: 전체 배치 수 기준\n",
    "    pbar = tqdm(trainloader, desc=f\"Train {epoch:02d}/{epochs}\", leave=False)\n",
    "\n",
    "    for i, (x, y) in enumerate(pbar, 1):\n",
    "        x, y = x.to(device, non_blocking=True), y.to(device, non_blocking=True)\n",
    "        optimizer.zero_grad(set_to_none=True)\n",
    "\n",
    "        with torch.amp.autocast(device_type=device.type, enabled=(device.type=='cuda')):\n",
    "            logits = model(x)\n",
    "            loss = criterion(logits, y)\n",
    "\n",
    "        scaler.scale(loss).backward()\n",
    "        scaler.step(optimizer)\n",
    "        scaler.update()\n",
    "\n",
    "        # 통계 갱신\n",
    "        run_loss += loss.item() * y.size(0)\n",
    "        pred = logits.argmax(1)\n",
    "        total += y.size(0)\n",
    "        correct += (pred == y).sum().item()\n",
    "\n",
    "        # 현재 스텝 지표\n",
    "        train_loss = run_loss / total\n",
    "        train_acc  = correct / total * 100.0\n",
    "        cur_lr     = scheduler.get_last_lr()[0] if hasattr(scheduler, \"get_last_lr\") else optimizer.param_groups[0][\"lr\"]\n",
    "\n",
    "        # 속도/메모리(선택)\n",
    "        elapsed = time.time() - start\n",
    "        ips = total / max(elapsed, 1e-9)  # images/sec\n",
    "        if device.type == 'cuda':\n",
    "            mem_mb = torch.cuda.memory_allocated() / (1024**2)\n",
    "            mem_txt = f\"{mem_mb:.0f}MB\"\n",
    "        else:\n",
    "            mem_txt = \"CPU\"\n",
    "\n",
    "        # 진행바 우측에 지표 출력\n",
    "        pbar.set_postfix({\n",
    "            \"loss\": f\"{train_loss:.4f}\",\n",
    "            \"acc\": f\"{train_acc:.2f}%\",\n",
    "            \"lr\": f\"{cur_lr:.5f}\",\n",
    "            \"ips\": f\"{ips:.0f}/s\",\n",
    "            \"mem\": mem_txt\n",
    "        })\n",
    "\n",
    "    # 스케줄러 스텝 (에폭 끝)\n",
    "    scheduler.step()\n",
    "\n",
    "    # 에폭 요약 출력\n",
    "    val_loss, val_acc = evaluate(model, testloader, device)\n",
    "    print(f\"[{epoch:02d}/{epochs}] \"\n",
    "          f\"train_loss={train_loss:.4f} train_acc={train_acc:.2f}% | \"\n",
    "          f\"val_loss={val_loss:.4f} val_acc={val_acc*100:.2f}% | \"\n",
    "          f\"lr={scheduler.get_last_lr()[0]:.5f}\")\n",
    "\n",
    "    train_loss_history.append(train_loss)\n",
    "    train_acc_history.append(train_acc/100.0)\n",
    "    val_loss_history.append(val_loss)\n",
    "    val_acc_history.append(val_acc)\n",
    "\n",
    "    # 베스트 저장 (파일명 수정: vit)\n",
    "    if val_acc > best_acc:\n",
    "        best_acc = val_acc\n",
    "        torch.save({\n",
    "            'epoch': epoch,\n",
    "            'model_state': model.state_dict(),\n",
    "            'optimizer_state': optimizer.state_dict(),\n",
    "            'val_acc': val_acc,\n",
    "        }, \"checkpoints/best_vit_cifar100.pt\")\n",
    "\n",
    "print(f\"Best val_acc: {best_acc*100:.2f}%\")"
   ]
  },
  {
   "cell_type": "markdown",
   "id": "8b01e354",
   "metadata": {},
   "source": [
    "그래프"
   ]
  },
  {
   "cell_type": "code",
   "execution_count": 11,
   "id": "9066f157",
   "metadata": {},
   "outputs": [
    {
     "data": {
      "image/png": "[encoded data removed]",
      "text/plain": [
       "<Figure size 1200x500 with 2 Axes>"
      ]
     },
     "metadata": {},
     "output_type": "display_data"
    }
   ],
   "source": [
    "import matplotlib.pyplot as plt\n",
    "\n",
    "epochs_range = range(1, epochs+1)\n",
    "\n",
    "# Loss 그래프\n",
    "plt.figure(figsize=(12, 5))\n",
    "\n",
    "plt.subplot(1, 2, 1)\n",
    "plt.plot(epochs_range, train_loss_history, label=\"Train Loss\")\n",
    "plt.plot(epochs_range, val_loss_history, label=\"Val Loss\")\n",
    "plt.xlabel(\"Epoch\")\n",
    "plt.ylabel(\"Loss\")\n",
    "plt.title(\"Loss Curve\")\n",
    "plt.legend()\n",
    "plt.grid(True)\n",
    "\n",
    "# Accuracy 그래프\n",
    "plt.subplot(1, 2, 2)\n",
    "plt.plot(epochs_range, train_acc_history, label=\"Train Acc\")\n",
    "plt.plot(epochs_range, val_acc_history, label=\"Val Acc\")\n",
    "plt.xlabel(\"Epoch\")\n",
    "plt.ylabel(\"Accuracy\")\n",
    "plt.title(\"Accuracy Curve\")\n",
    "plt.legend()\n",
    "plt.grid(True)\n",
    "\n",
    "plt.tight_layout()\n",
    "plt.show()"
   ]
  }
 ],
 "metadata": {
  "kernelspec": {
   "display_name": "Python 3",
   "language": "python",
   "name": "python3"
  },
  "language_info": {
   "codemirror_mode": {
    "name": "ipython",
    "version": 3
   },
   "file_extension": ".py",
   "mimetype": "text/x-python",
   "name": "python",
   "nbconvert_exporter": "python",
   "pygments_lexer": "ipython3",
   "version": "3.11.9"
  }
 },
 "nbformat": 4,
 "nbformat_minor": 5
}
