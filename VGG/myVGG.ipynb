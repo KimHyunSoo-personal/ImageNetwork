{
 "cells": [
  {
   "cell_type": "markdown",
   "id": "47b9c173",
   "metadata": {},
   "source": [
    "사전구성"
   ]
  },
  {
   "cell_type": "code",
   "execution_count": 1,
   "id": "8cf45acd",
   "metadata": {},
   "outputs": [],
   "source": [
    "import torch\n",
    "import torchvision\n",
    "import torchvision.transforms as transforms\n",
    "import torch.nn as nn\n",
    "import torch.nn.functional as F\n",
    "import torch.optim as optim\n",
    "import os"
   ]
  },
  {
   "cell_type": "code",
   "execution_count": 2,
   "id": "c01e713f",
   "metadata": {},
   "outputs": [],
   "source": [
    "transform = transforms.Compose([\n",
    "    transforms.Resize((224, 224)),  #CIFAR 32x32 -> 224x224\n",
    "    transforms.ToTensor(),\n",
    "    transforms.Normalize((0.5071, 0.4865, 0.4409),  # CIFAR-100 평균\n",
    "                         (0.2673, 0.2564, 0.2761))  # CIFAR-100 표준편차\n",
    "])"
   ]
  },
  {
   "cell_type": "code",
   "execution_count": 3,
   "id": "638b72ec",
   "metadata": {},
   "outputs": [
    {
     "name": "stdout",
     "output_type": "stream",
     "text": [
      "클래스 개수: 100\n",
      "예시 클래스: ['apple', 'aquarium_fish', 'baby', 'bear', 'beaver', 'bed', 'bee', 'beetle', 'bicycle', 'bottle']\n",
      "torch.Size([3, 224, 224])\n"
     ]
    }
   ],
   "source": [
    "trainset = torchvision.datasets.CIFAR100(root='./data', train=True, download=True, transform=transform)\n",
    "trainloader = torch.utils.data.DataLoader(trainset, batch_size=256, shuffle=True, num_workers=2)\n",
    "\n",
    "testset = torchvision.datasets.CIFAR100(root='./data', train=False, download=True, transform=transform)\n",
    "testloader = torch.utils.data.DataLoader(testset, batch_size=256, shuffle=False, num_workers=2)\n",
    "\n",
    "print(\"클래스 개수:\", len(trainset.classes))    # 100\n",
    "print(\"예시 클래스:\", trainset.classes[:10])    # 앞 10개 클래스\n",
    "print(trainset[0][0].shape)     #이미지 크기"
   ]
  },
  {
   "cell_type": "markdown",
   "id": "a4849bf6",
   "metadata": {},
   "source": [
    "모듈 구성"
   ]
  },
  {
   "cell_type": "code",
   "execution_count": 4,
   "id": "81a305ad",
   "metadata": {},
   "outputs": [],
   "source": [
    "class myVGG13(torch.nn.Module):\n",
    "    def __init__(self):\n",
    "        super().__init__()\n",
    "        self.layer1_1 = nn.Conv2d(3, 64, kernel_size=3, padding=1)\n",
    "        self.layer1_2 = nn.Conv2d(64, 64, kernel_size=3, padding=1)\n",
    "        \n",
    "        self.maxpool1 = nn.MaxPool2d(2)\n",
    "\n",
    "        self.layer2_1 = nn.Conv2d(64, 128, kernel_size=3, padding=1)\n",
    "        self.layer2_2 = nn.Conv2d(128, 128, kernel_size=3, padding=1)\n",
    "\n",
    "        self.maxpool2 = nn.MaxPool2d(2)\n",
    "\n",
    "        self.layer3_1 = nn.Conv2d(128, 256, kernel_size=3, padding=1)\n",
    "        self.layer3_2 = nn.Conv2d(256, 256, kernel_size=3, padding=1)\n",
    "\n",
    "        self.maxpool3 = nn.MaxPool2d(2)\n",
    "\n",
    "        self.layer4_1 = nn.Conv2d(256, 512, kernel_size=3, padding=1)\n",
    "        self.layer4_2 = nn.Conv2d(512, 512, kernel_size=3, padding=1)\n",
    "\n",
    "        self.maxpool4 = nn.MaxPool2d(2)\n",
    "\n",
    "        self.layer5_1 = nn.Conv2d(512, 512, kernel_size=3, padding=1)\n",
    "        self.layer5_2 = nn.Conv2d(512, 512, kernel_size=3, padding=1)\n",
    "\n",
    "        self.maxpool5 = nn.MaxPool2d(2)\n",
    "\n",
    "        self.flatten = nn.Flatten()\n",
    "\n",
    "        self.layer6 = nn.Linear(7*7*512, 4096)\n",
    "        self.dropout6 = nn.Dropout(p=0.5)\n",
    "        self.layer7 = nn.Linear(4096, 4096)\n",
    "        self.dropout7 = nn.Dropout(p=0.5)\n",
    "        self.layer8 = nn.Linear(4096, 100)  #CIFAR은 100 class\n",
    "\n",
    "    def forward(self, x):\n",
    "        x = F.relu(self.layer1_1(x))\n",
    "        x = F.relu(self.layer1_2(x))\n",
    "\n",
    "        x = self.maxpool1(x)\n",
    "\n",
    "        x = F.relu(self.layer2_1(x))\n",
    "        x = F.relu(self.layer2_2(x))\n",
    "\n",
    "        x = self.maxpool2(x)\n",
    "\n",
    "        x = F.relu(self.layer3_1(x))\n",
    "        x = F.relu(self.layer3_2(x))\n",
    "\n",
    "        x = self.maxpool3(x)\n",
    "\n",
    "        x = F.relu(self.layer4_1(x))\n",
    "        x = F.relu(self.layer4_2(x))\n",
    "\n",
    "        x = self.maxpool4(x)\n",
    "\n",
    "        x = F.relu(self.layer5_1(x))\n",
    "        x = F.relu(self.layer5_2(x))\n",
    "\n",
    "        x = self.maxpool5(x)\n",
    "        x = self.flatten(x)\n",
    "\n",
    "        x = F.relu(self.layer6(x))\n",
    "        x = self.dropout6(x)\n",
    "\n",
    "        x = F.relu(self.layer7(x))\n",
    "        x = self.dropout7(x)\n",
    "\n",
    "        return self.layer8(x)"
   ]
  },
  {
   "cell_type": "code",
   "execution_count": 5,
   "id": "9976178c",
   "metadata": {},
   "outputs": [],
   "source": [
    "train_loss_history = []\n",
    "train_acc_history = []\n",
    "val_loss_history = []\n",
    "val_acc_history = []\n",
    "device = torch.device('cuda' if torch.cuda.is_available() else 'cpu')\n",
    "\n",
    "model = myVGG13().to(device)\n",
    "criterion = nn.CrossEntropyLoss()\n",
    "optimizer = optim.AdamW(model.parameters(), lr=1e-3, weight_decay=5e-2)\n",
    "scheduler = optim.lr_scheduler.CosineAnnealingLR(optimizer, T_max=5)\n",
    "scaler = torch.amp.GradScaler(device.type)\n",
    "epochs = 5"
   ]
  },
  {
   "cell_type": "markdown",
   "id": "a72e5fc6",
   "metadata": {},
   "source": [
    "학습 및 평가"
   ]
  },
  {
   "cell_type": "code",
   "execution_count": 6,
   "id": "9672d73f",
   "metadata": {},
   "outputs": [
    {
     "data": {
      "application/vnd.jupyter.widget-view+json": {
       "model_id": "8757046ab7564b5b80fdedce70d53f5f",
       "version_major": 2,
       "version_minor": 0
      },
      "text/plain": [
       "smoke test:   0%|          | 0/50 [00:00<?, ?it/s]"
      ]
     },
     "metadata": {},
     "output_type": "display_data"
    }
   ],
   "source": [
    "from tqdm.auto import tqdm\n",
    "import time\n",
    "#tqdm 테스트\n",
    "for i in tqdm(range(50), desc=\"smoke test\", dynamic_ncols=True):\n",
    "    time.sleep(0.01)"
   ]
  },
  {
   "cell_type": "code",
   "execution_count": null,
   "id": "3eb79d05",
   "metadata": {},
   "outputs": [
    {
     "data": {
      "application/vnd.jupyter.widget-view+json": {
       "model_id": "34e4f2577395449d958a766e0f09bd84",
       "version_major": 2,
       "version_minor": 0
      },
      "text/plain": [
       "Train 01/5:   0%|          | 0/196 [00:09<?, ?it/s]"
      ]
     },
     "metadata": {},
     "output_type": "display_data"
    },
    {
     "data": {
      "application/vnd.jupyter.widget-view+json": {
       "model_id": "be92b9d4237a418d851d590868740e78",
       "version_major": 2,
       "version_minor": 0
      },
      "text/plain": [
       "Val:   0%|          | 0/40 [00:10<?, ?it/s]"
      ]
     },
     "metadata": {},
     "output_type": "display_data"
    },
    {
     "name": "stdout",
     "output_type": "stream",
     "text": [
      "[01/5] train_loss=4.2874 train_acc=4.00% | val_loss=3.8881 val_acc=8.41% | lr=0.00090\n"
     ]
    },
    {
     "data": {
      "application/vnd.jupyter.widget-view+json": {
       "model_id": "58022bde74654b9ca96b497122ad6562",
       "version_major": 2,
       "version_minor": 0
      },
      "text/plain": [
       "Train 02/5:   0%|          | 0/196 [00:11<?, ?it/s]"
      ]
     },
     "metadata": {},
     "output_type": "display_data"
    },
    {
     "data": {
      "application/vnd.jupyter.widget-view+json": {
       "model_id": "8df58ff1a3e24062b329c92cdff24a59",
       "version_major": 2,
       "version_minor": 0
      },
      "text/plain": [
       "Val:   0%|          | 0/40 [00:10<?, ?it/s]"
      ]
     },
     "metadata": {},
     "output_type": "display_data"
    },
    {
     "name": "stdout",
     "output_type": "stream",
     "text": [
      "[02/5] train_loss=3.7428 train_acc=11.31% | val_loss=3.4667 val_acc=16.67% | lr=0.00065\n"
     ]
    },
    {
     "data": {
      "application/vnd.jupyter.widget-view+json": {
       "model_id": "817908d8d76a43439845e08294a49ead",
       "version_major": 2,
       "version_minor": 0
      },
      "text/plain": [
       "Train 03/5:   0%|          | 0/196 [00:11<?, ?it/s]"
      ]
     },
     "metadata": {},
     "output_type": "display_data"
    },
    {
     "data": {
      "application/vnd.jupyter.widget-view+json": {
       "model_id": "40fb2c64f9b2490785a54f5d297cc6f6",
       "version_major": 2,
       "version_minor": 0
      },
      "text/plain": [
       "Val:   0%|          | 0/40 [00:10<?, ?it/s]"
      ]
     },
     "metadata": {},
     "output_type": "display_data"
    },
    {
     "name": "stdout",
     "output_type": "stream",
     "text": [
      "[03/5] train_loss=3.3807 train_acc=18.04% | val_loss=3.2226 val_acc=21.96% | lr=0.00035\n"
     ]
    },
    {
     "data": {
      "application/vnd.jupyter.widget-view+json": {
       "model_id": "c4d8d9701d9748258e59cd3e20f16eea",
       "version_major": 2,
       "version_minor": 0
      },
      "text/plain": [
       "Train 04/5:   0%|          | 0/196 [00:11<?, ?it/s]"
      ]
     },
     "metadata": {},
     "output_type": "display_data"
    }
   ],
   "source": [
    "\n",
    "\n",
    "@torch.no_grad()\n",
    "def evaluate(model, loader, device):\n",
    "    model.eval()\n",
    "    total, correct, loss_sum = 0, 0, 0.0\n",
    "    criterion = nn.CrossEntropyLoss()\n",
    "\n",
    "    # 평가도 진행률 보이게\n",
    "    pbar = tqdm(loader, desc=\"Val\", leave=False)\n",
    "    for x, y in pbar:\n",
    "        x, y = x.to(device, non_blocking=True), y.to(device, non_blocking=True)\n",
    "        logits = model(x)\n",
    "        loss = criterion(logits, y)\n",
    "        pred = logits.argmax(1)\n",
    "        total += y.size(0)\n",
    "        correct += (pred == y).sum().item()\n",
    "        loss_sum += loss.item() * y.size(0)\n",
    "\n",
    "        cur_loss = loss_sum / total\n",
    "        cur_acc  = correct / total * 100\n",
    "        pbar.set_postfix(loss=f\"{cur_loss:.4f}\", acc=f\"{cur_acc:.2f}%\")\n",
    "\n",
    "    return loss_sum / total, correct / total\n",
    "\n",
    "# ============================================================\n",
    "# 학습 루프 (진행률/ETA/속도/메모리 사용량 표시)\n",
    "# ============================================================\n",
    "\n",
    "best_acc = 0.0\n",
    "os.makedirs('checkpoints', exist_ok=True)\n",
    "\n",
    "for epoch in range(1, epochs+1):\n",
    "    model.train()\n",
    "    total, correct, run_loss = 0, 0, 0.0\n",
    "\n",
    "    start = time.time()\n",
    "    # tqdm 진행바: 전체 배치 수 기준\n",
    "    pbar = tqdm(trainloader, desc=f\"Train {epoch:02d}/{epochs}\", leave=False)\n",
    "\n",
    "    for i, (x, y) in enumerate(pbar, 1):\n",
    "        x, y = x.to(device, non_blocking=True), y.to(device, non_blocking=True)\n",
    "        optimizer.zero_grad(set_to_none=True)\n",
    "\n",
    "        with torch.amp.autocast(device_type=device.type, enabled=(device.type=='cuda')):\n",
    "            logits = model(x)\n",
    "            loss = criterion(logits, y)\n",
    "\n",
    "        scaler.scale(loss).backward()\n",
    "        scaler.step(optimizer)\n",
    "        scaler.update()\n",
    "\n",
    "        # 통계 갱신\n",
    "        run_loss += loss.item() * y.size(0)\n",
    "        pred = logits.argmax(1)\n",
    "        total += y.size(0)\n",
    "        correct += (pred == y).sum().item()\n",
    "\n",
    "        # 현재 스텝 지표\n",
    "        train_loss = run_loss / total\n",
    "        train_acc  = correct / total * 100.0\n",
    "        cur_lr     = scheduler.get_last_lr()[0] if hasattr(scheduler, \"get_last_lr\") else optimizer.param_groups[0][\"lr\"]\n",
    "\n",
    "        # 속도/메모리(선택)\n",
    "        elapsed = time.time() - start\n",
    "        ips = total / max(elapsed, 1e-9)  # images/sec\n",
    "        if device.type == 'cuda':\n",
    "            mem_mb = torch.cuda.memory_allocated() / (1024**2)\n",
    "            mem_txt = f\"{mem_mb:.0f}MB\"\n",
    "        else:\n",
    "            mem_txt = \"CPU\"\n",
    "\n",
    "        # 진행바 우측에 지표 출력\n",
    "        pbar.set_postfix({\n",
    "            \"loss\": f\"{train_loss:.4f}\",\n",
    "            \"acc\": f\"{train_acc:.2f}%\",\n",
    "            \"lr\": f\"{cur_lr:.5f}\",\n",
    "            \"ips\": f\"{ips:.0f}/s\",\n",
    "            \"mem\": mem_txt\n",
    "        })\n",
    "\n",
    "    # 스케줄러 스텝 (에폭 끝)\n",
    "    scheduler.step()\n",
    "\n",
    "    # 에폭 요약 출력\n",
    "    val_loss, val_acc = evaluate(model, testloader, device)\n",
    "    print(f\"[{epoch:02d}/{epochs}] \"\n",
    "          f\"train_loss={train_loss:.4f} train_acc={train_acc:.2f}% | \"\n",
    "          f\"val_loss={val_loss:.4f} val_acc={val_acc*100:.2f}% | \"\n",
    "          f\"lr={scheduler.get_last_lr()[0]:.5f}\")\n",
    "\n",
    "    train_loss_history.append(train_loss)\n",
    "    train_acc_history.append(train_acc/100.0)\n",
    "    val_loss_history.append(val_loss)\n",
    "    val_acc_history.append(val_acc)\n",
    "\n",
    "    if val_acc > best_acc:\n",
    "        best_acc = val_acc\n",
    "        torch.save({\n",
    "            'epoch': epoch,\n",
    "            'model_state': model.state_dict(),\n",
    "            'optimizer_state': optimizer.state_dict(),\n",
    "            'val_acc': val_acc,\n",
    "        }, \"checkpoints/best_vgg13_cifar100.pt\")\n",
    "\n",
    "print(f\"Best val_acc: {best_acc*100:.2f}%\")"
   ]
  },
  {
   "cell_type": "markdown",
   "id": "8b01e354",
   "metadata": {},
   "source": [
    "그래프"
   ]
  },
  {
   "cell_type": "code",
   "execution_count": 1,
   "id": "9066f157",
   "metadata": {},
   "outputs": [
    {
     "ename": "NameError",
     "evalue": "name 'epochs' is not defined",
     "output_type": "error",
     "traceback": [
      "\u001b[31m---------------------------------------------------------------------------\u001b[39m",
      "\u001b[31mNameError\u001b[39m                                 Traceback (most recent call last)",
      "\u001b[36mCell\u001b[39m\u001b[36m \u001b[39m\u001b[32mIn[1]\u001b[39m\u001b[32m, line 3\u001b[39m\n\u001b[32m      1\u001b[39m \u001b[38;5;28;01mimport\u001b[39;00m\u001b[38;5;250m \u001b[39m\u001b[34;01mmatplotlib\u001b[39;00m\u001b[34;01m.\u001b[39;00m\u001b[34;01mpyplot\u001b[39;00m\u001b[38;5;250m \u001b[39m\u001b[38;5;28;01mas\u001b[39;00m\u001b[38;5;250m \u001b[39m\u001b[34;01mplt\u001b[39;00m\n\u001b[32m----> \u001b[39m\u001b[32m3\u001b[39m epochs_range = \u001b[38;5;28mrange\u001b[39m(\u001b[32m1\u001b[39m, \u001b[43mepochs\u001b[49m+\u001b[32m1\u001b[39m)\n\u001b[32m      5\u001b[39m \u001b[38;5;66;03m# Loss 그래프\u001b[39;00m\n\u001b[32m      6\u001b[39m plt.figure(figsize=(\u001b[32m12\u001b[39m, \u001b[32m5\u001b[39m))\n",
      "\u001b[31mNameError\u001b[39m: name 'epochs' is not defined"
     ]
    }
   ],
   "source": [
    "import matplotlib.pyplot as plt\n",
    "\n",
    "epochs_range = range(1, epochs+1)\n",
    "\n",
    "# Loss 그래프\n",
    "plt.figure(figsize=(12, 5))\n",
    "\n",
    "plt.subplot(1, 2, 1)\n",
    "plt.plot(epochs_range, train_loss_history, label=\"Train Loss\")\n",
    "plt.plot(epochs_range, val_loss_history, label=\"Val Loss\")\n",
    "plt.xlabel(\"Epoch\")\n",
    "plt.ylabel(\"Loss\")\n",
    "plt.title(\"Loss Curve\")\n",
    "plt.legend()\n",
    "plt.grid(True)\n",
    "\n",
    "# Accuracy 그래프\n",
    "plt.subplot(1, 2, 2)\n",
    "plt.plot(epochs_range, train_acc_history, label=\"Train Acc\")\n",
    "plt.plot(epochs_range, val_acc_history, label=\"Val Acc\")\n",
    "plt.xlabel(\"Epoch\")\n",
    "plt.ylabel(\"Accuracy\")\n",
    "plt.title(\"Accuracy Curve\")\n",
    "plt.legend()\n",
    "plt.grid(True)\n",
    "\n",
    "plt.tight_layout()\n",
    "plt.show()"
   ]
  },
  {
   "cell_type": "code",
   "execution_count": null,
   "id": "3439ac9f",
   "metadata": {},
   "outputs": [],
   "source": []
  }
 ],
 "metadata": {
  "kernelspec": {
   "display_name": "Python 3",
   "language": "python",
   "name": "python3"
  },
  "language_info": {
   "codemirror_mode": {
    "name": "ipython",
    "version": 3
   },
   "file_extension": ".py",
   "mimetype": "text/x-python",
   "name": "python",
   "nbconvert_exporter": "python",
   "pygments_lexer": "ipython3",
   "version": "3.11.9"
  }
 },
 "nbformat": 4,
 "nbformat_minor": 5
}
